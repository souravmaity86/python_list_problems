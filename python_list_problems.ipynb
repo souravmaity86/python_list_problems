{
 "cells": [
  {
   "cell_type": "code",
   "execution_count": 3,
   "id": "af670df9-58e9-412b-849f-6b35ea1b09df",
   "metadata": {},
   "outputs": [
    {
     "data": {
      "text/plain": [
       "[3, 2, 1]"
      ]
     },
     "execution_count": 3,
     "metadata": {},
     "output_type": "execute_result"
    }
   ],
   "source": [
    "#Python program to interchange first and last elements in a list\n",
    "l=[1, 2, 3]\n",
    "temp=0\n",
    "temp=l[0]\n",
    "l[0]=l[-1]\n",
    "l[-1]=temp\n",
    "l"
   ]
  },
  {
   "cell_type": "code",
   "execution_count": 7,
   "id": "8d593a11-faf2-429c-a354-45b85cc53417",
   "metadata": {},
   "outputs": [
    {
     "data": {
      "text/plain": [
       "[19, 65, 23, 90]"
      ]
     },
     "execution_count": 7,
     "metadata": {},
     "output_type": "execute_result"
    }
   ],
   "source": [
    "#Python program to swap two elements in a list (1st and 3rd element)\n",
    "l = [23, 65, 19, 90]\n",
    "temp=0\n",
    "temp=l[0]\n",
    "l[0]=l[2]\n",
    "l[2]=temp\n",
    "l"
   ]
  },
  {
   "cell_type": "code",
   "execution_count": 9,
   "id": "4a964b0a-415e-4c08-917a-894fcc950103",
   "metadata": {},
   "outputs": [
    {
     "name": "stdout",
     "output_type": "stream",
     "text": [
      "4\n"
     ]
    }
   ],
   "source": [
    "#Ways to find length of list\n",
    "l = [23, 65, 19, 90]\n",
    "count=0\n",
    "for i in l:\n",
    "    count+=1\n",
    "print(count)"
   ]
  },
  {
   "cell_type": "code",
   "execution_count": 10,
   "id": "0661f71b-f187-428b-9819-7403eddcff26",
   "metadata": {},
   "outputs": [
    {
     "name": "stdin",
     "output_type": "stream",
     "text": [
      " 4\n",
      " 9\n"
     ]
    },
    {
     "name": "stdout",
     "output_type": "stream",
     "text": [
      "9\n"
     ]
    }
   ],
   "source": [
    "#Maximum of two numbers in Python\n",
    "a=int(input())\n",
    "b=int(input())\n",
    "max=0\n",
    "if (a>b):\n",
    "    max=a\n",
    "else:\n",
    "    max=b\n",
    "print(max)"
   ]
  },
  {
   "cell_type": "code",
   "execution_count": 11,
   "id": "d39d426a-4169-4dd5-8711-2c5f19de7ef1",
   "metadata": {},
   "outputs": [
    {
     "name": "stdin",
     "output_type": "stream",
     "text": [
      " 6\n",
      " 8\n"
     ]
    },
    {
     "name": "stdout",
     "output_type": "stream",
     "text": [
      "6\n"
     ]
    }
   ],
   "source": [
    "#Minimum of two numbers in Python\n",
    "a=int(input())\n",
    "b=int(input())\n",
    "min=0\n",
    "if (a>b):\n",
    "    min=b\n",
    "else:\n",
    "    min=a\n",
    "print(min)"
   ]
  },
  {
   "cell_type": "code",
   "execution_count": 14,
   "id": "524f2d06-96f9-46ba-badb-6af9a970ab81",
   "metadata": {},
   "outputs": [
    {
     "name": "stdin",
     "output_type": "stream",
     "text": [
      " 11\n"
     ]
    }
   ],
   "source": [
    "#Check if element exists in list in Python\n",
    "test_list = [1, 6, 3, 5, 3, 4]\n",
    "i=int(input())\n",
    "if i in test_list:\n",
    "    print(\"{} is available in list\".format(i))\n",
    "else:\n",
    "    pass"
   ]
  },
  {
   "cell_type": "code",
   "execution_count": 15,
   "id": "7f8397ba-4b0c-4ccf-a7d6-01f7bfa3dc1d",
   "metadata": {},
   "outputs": [
    {
     "name": "stdout",
     "output_type": "stream",
     "text": [
      "[4, 3, 5, 3, 6, 1]\n"
     ]
    }
   ],
   "source": [
    "#Reversing a List in Python\n",
    "test_list = [1, 6, 3, 5, 3, 4]\n",
    "print(test_list[::-1])"
   ]
  },
  {
   "cell_type": "code",
   "execution_count": 17,
   "id": "4a597285-bc93-4d1e-952d-32de623d3178",
   "metadata": {},
   "outputs": [
    {
     "data": {
      "text/plain": [
       "[3, 13, 17, 7]"
      ]
     },
     "execution_count": 17,
     "metadata": {},
     "output_type": "execute_result"
    }
   ],
   "source": [
    "#Sum of number digits in List\n",
    "test_list = [12, 67, 98, 34]\n",
    "res = list(map(lambda ele: sum(int(sub) for sub in str(ele)), test_list))\n",
    "res"
   ]
  },
  {
   "cell_type": "code",
   "execution_count": 18,
   "id": "fc03fda9-1318-4f16-9f37-2da43c9f701f",
   "metadata": {},
   "outputs": [
    {
     "data": {
      "text/plain": [
       "1"
      ]
     },
     "execution_count": 18,
     "metadata": {},
     "output_type": "execute_result"
    }
   ],
   "source": [
    "#Python program to find smallest number in a list\n",
    "list2 = [20, 10, 20, 1, 100]\n",
    "list2.sort()\n",
    "list2[0]"
   ]
  },
  {
   "cell_type": "code",
   "execution_count": 21,
   "id": "fe9597eb-7274-4b68-a44d-a41d1aa8fa4b",
   "metadata": {},
   "outputs": [
    {
     "name": "stdout",
     "output_type": "stream",
     "text": [
      "46\n",
      "5.75\n"
     ]
    }
   ],
   "source": [
    "#Find sum and average of List in Python\n",
    "list1=[4, 5, 1, 2, 9, 7, 10, 8]\n",
    "sum=0\n",
    "for i in list1:\n",
    "    sum+=i\n",
    "print(sum)\n",
    "avg=sum/len(list1)\n",
    "print(avg)"
   ]
  },
  {
   "cell_type": "code",
   "execution_count": 22,
   "id": "f284ee94-f5e5-47e5-88ac-2b6d7d3da263",
   "metadata": {},
   "outputs": [
    {
     "data": {
      "text/plain": [
       "70"
      ]
     },
     "execution_count": 22,
     "metadata": {},
     "output_type": "execute_result"
    }
   ],
   "source": [
    "#Python program to find second largest number in a list\n",
    "l=[70, 11, 20, 4, 100]\n",
    "l.sort()\n",
    "l[-2]"
   ]
  },
  {
   "cell_type": "code",
   "execution_count": 23,
   "id": "c8f6731e-f051-4d55-a8ab-4fbf9ba75a75",
   "metadata": {},
   "outputs": [
    {
     "name": "stdout",
     "output_type": "stream",
     "text": [
      "[70, 11, 20, 4, 100]\n",
      "[]\n"
     ]
    }
   ],
   "source": [
    "#clear a list in Python\n",
    "l=[70, 11, 20, 4, 100]\n",
    "print(l)\n",
    "l.clear()\n",
    "print(l)"
   ]
  },
  {
   "cell_type": "code",
   "execution_count": 27,
   "id": "ed7c32dc-8802-4f19-a27e-9857a47e4ccc",
   "metadata": {},
   "outputs": [
    {
     "data": {
      "text/plain": [
       "[12, 98, 34]"
      ]
     },
     "execution_count": 27,
     "metadata": {},
     "output_type": "execute_result"
    }
   ],
   "source": [
    "#print even numbers in a list\n",
    "list1 = [12, 67, 98, 34,99,43,21,88,60,49]\n",
    "even_nos = [num for num in list1 if num % 2 == 0]\n",
    " \n",
    "even_nos"
   ]
  },
  {
   "cell_type": "code",
   "execution_count": 29,
   "id": "20ef775d-863e-46bc-a9f6-6b4186a687a3",
   "metadata": {},
   "outputs": [
    {
     "data": {
      "text/plain": [
       "[67, 99, 43, 21, 49]"
      ]
     },
     "execution_count": 29,
     "metadata": {},
     "output_type": "execute_result"
    }
   ],
   "source": [
    "# odd printing in a list\n",
    "list1 = [12, 67, 98, 34,99,43,21,88,60,49]\n",
    "odd_nos = list(filter(lambda x: (x % 2 != 0), list1))\n",
    "odd_nos "
   ]
  },
  {
   "cell_type": "code",
   "execution_count": 34,
   "id": "b71ea18a-18f1-4e5e-8039-51edcecffe07",
   "metadata": {},
   "outputs": [
    {
     "data": {
      "text/plain": [
       "[2, 4, 6, 8, 10]"
      ]
     },
     "execution_count": 34,
     "metadata": {},
     "output_type": "execute_result"
    }
   ],
   "source": [
    "#print all even numbers in a range\n",
    "even_nos = list(filter(lambda x: (x % 2== 0), range(1,11)))\n",
    "even_nos   \n"
   ]
  },
  {
   "cell_type": "code",
   "execution_count": 35,
   "id": "5a90bfb4-de90-4441-8a35-0e263a7b9c8d",
   "metadata": {},
   "outputs": [
    {
     "data": {
      "text/plain": [
       "[1, 3, 5, 7, 9]"
      ]
     },
     "execution_count": 35,
     "metadata": {},
     "output_type": "execute_result"
    }
   ],
   "source": [
    "#print all odd numbers in a range\n",
    "odd_nos = list(filter(lambda x: (x % 2!= 0), range(1,11)))\n",
    "odd_nos   "
   ]
  },
  {
   "cell_type": "code",
   "execution_count": 42,
   "id": "6ec49d55-b40e-4626-b41e-b22d8a47d49a",
   "metadata": {},
   "outputs": [
    {
     "name": "stdout",
     "output_type": "stream",
     "text": [
      "3\n",
      "4\n"
     ]
    }
   ],
   "source": [
    "#program to count Even and Odd numbers in a List\n",
    "list1 = [10, 21, 4, 45, 66, 93, 1]\n",
    " \n",
    "even_count, odd_count = 0, 0\n",
    "i=0\n",
    "while(i < len(list1)):\n",
    "    if list1[i]%2==0:\n",
    "        even_count+=1\n",
    "    else:\n",
    "        odd_count+=1\n",
    "    i+=1\n",
    "print(even_count)\n",
    "print(odd_count)\n",
    "        \n",
    "    "
   ]
  },
  {
   "cell_type": "code",
   "execution_count": 55,
   "id": "8ba63d12-da63-4a64-9dd3-275a74d27237",
   "metadata": {},
   "outputs": [
    {
     "name": "stdout",
     "output_type": "stream",
     "text": [
      "Counter({1: 4, 2: 3, 5: 2, 9: 2, 3: 1, 4: 1, 6: 1, 7: 1, 8: 1})\n",
      "[1, 2, 3, 4, 5, 6, 7, 8, 9]\n"
     ]
    }
   ],
   "source": [
    "#Program to print duplicates from a list of integers\n",
    "from collections import Counter\n",
    "l1 = [1,2,1,2,3,4,5,1,1,2,5,6,7,8,9,9]\n",
    "d = Counter(l1)\n",
    "print(d)\n",
    " \n",
    "new_list = list([item for item in d if item>0])\n",
    "print(new_list)"
   ]
  },
  {
   "cell_type": "code",
   "execution_count": 58,
   "id": "32bad018-7fca-45f5-8c35-0354492428fc",
   "metadata": {},
   "outputs": [
    {
     "data": {
      "text/plain": [
       "[45, 93]"
      ]
     },
     "execution_count": 58,
     "metadata": {},
     "output_type": "execute_result"
    }
   ],
   "source": [
    "#program to print positive numbers in a list\n",
    "list1 = [-10, -21, -4, 45, -66, 93]\n",
    " \n",
    "# using list comprehension\n",
    "pos_nos = [num for num in list1 if num >= 0]\n",
    " \n",
    "pos_nos"
   ]
  },
  {
   "cell_type": "code",
   "execution_count": 59,
   "id": "c529b272-5514-42ef-8472-d5727dd88f18",
   "metadata": {},
   "outputs": [
    {
     "data": {
      "text/plain": [
       "[-10, -21, -4, -66]"
      ]
     },
     "execution_count": 59,
     "metadata": {},
     "output_type": "execute_result"
    }
   ],
   "source": [
    "#program to print negative numbers in a list\n",
    "list1 = [-10, -21, -4, 45, -66, 93]\n",
    " \n",
    "# using list comprehension\n",
    "pos_nos = [num for num in list1 if num < 0]\n",
    " \n",
    "pos_nos"
   ]
  },
  {
   "cell_type": "code",
   "execution_count": 60,
   "id": "f2e52620-0d61-473a-93e4-1f273b371ed4",
   "metadata": {},
   "outputs": [
    {
     "data": {
      "text/plain": [
       "[1, 2, 3, 4, 5, 6, 7, 8, 9]"
      ]
     },
     "execution_count": 60,
     "metadata": {},
     "output_type": "execute_result"
    }
   ],
   "source": [
    "#print all positive numbers in a range\n",
    "pos_nos = [num for num in range(-2,10) if num > 0]\n",
    " \n",
    "pos_nos"
   ]
  },
  {
   "cell_type": "code",
   "execution_count": 61,
   "id": "aff554d3-cf39-4404-98b5-19afd65fb075",
   "metadata": {},
   "outputs": [
    {
     "data": {
      "text/plain": [
       "[-2, -1]"
      ]
     },
     "execution_count": 61,
     "metadata": {},
     "output_type": "execute_result"
    }
   ],
   "source": [
    "#print all negative numbers in a range\n",
    "negetive_nos = [num for num in range(-2,10) if num < 0]\n",
    " \n",
    "negetive_nos "
   ]
  },
  {
   "cell_type": "code",
   "execution_count": 65,
   "id": "267a1335-8520-49b8-99be-32fa07ac557d",
   "metadata": {},
   "outputs": [
    {
     "name": "stdout",
     "output_type": "stream",
     "text": [
      "[45, 93]\n",
      "[-10, -21, -4, -66]\n",
      "2\n",
      "4\n"
     ]
    }
   ],
   "source": [
    "#count positive and negative numbers in a list\n",
    "list1 = [-10, -21, -4, 45, -66, 93]\n",
    "pos_nos = [num for num in list1 if num >= 0]\n",
    "print(pos_nos)\n",
    "negetive_nos = [num for num in list1 if num < 0]\n",
    "print(negetive_nos)\n",
    "print(len(pos_nos))\n",
    "print(len(negetive_nos))"
   ]
  },
  {
   "cell_type": "code",
   "execution_count": 66,
   "id": "52f4d0bc-b116-4c8b-9b58-90861e911e79",
   "metadata": {},
   "outputs": [
    {
     "data": {
      "text/plain": [
       "[11, 5, 17, 23]"
      ]
     },
     "execution_count": 66,
     "metadata": {},
     "output_type": "execute_result"
    }
   ],
   "source": [
    "#remove all even nos from the list\n",
    "list1 = [11, 5, 17, 18, 23, 50]\n",
    "for i in list1:\n",
    "    if i%2==0:\n",
    "        list1.remove(i)\n",
    "list1\n",
    "   "
   ]
  },
  {
   "cell_type": "code",
   "execution_count": 67,
   "id": "4e934e6b-a8dd-4f90-9b2a-745d126e4296",
   "metadata": {},
   "outputs": [
    {
     "name": "stdout",
     "output_type": "stream",
     "text": [
      "[('ram', '15', '8'), ('laxman', 'sita'), ('krishna', 'akbar', '45'), ('', '')]\n"
     ]
    }
   ],
   "source": [
    "# remove empty tuples\n",
    "\n",
    "def Remove(tuples):\n",
    "    tuples = [t for t in tuples if t]\n",
    "    return tuples\n",
    " \n",
    "\n",
    "tuples = [(), ('ram','15','8'), (), ('laxman', 'sita'),\n",
    "          ('krishna', 'akbar', '45'), ('',''),()]\n",
    "print(Remove(tuples))"
   ]
  },
  {
   "cell_type": "code",
   "execution_count": null,
   "id": "46404bc4-a6f9-4769-b873-16f810f4e8c4",
   "metadata": {},
   "outputs": [],
   "source": []
  }
 ],
 "metadata": {
  "kernelspec": {
   "display_name": "Python 3 (ipykernel)",
   "language": "python",
   "name": "python3"
  },
  "language_info": {
   "codemirror_mode": {
    "name": "ipython",
    "version": 3
   },
   "file_extension": ".py",
   "mimetype": "text/x-python",
   "name": "python",
   "nbconvert_exporter": "python",
   "pygments_lexer": "ipython3",
   "version": "3.10.6"
  }
 },
 "nbformat": 4,
 "nbformat_minor": 5
}
